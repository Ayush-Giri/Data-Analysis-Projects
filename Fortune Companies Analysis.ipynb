{
 "cells": [
  {
   "cell_type": "code",
   "execution_count": 118,
   "id": "a8329632",
   "metadata": {},
   "outputs": [],
   "source": [
    "import pandas as pd\n",
    "import numpy as np"
   ]
  },
  {
   "cell_type": "code",
   "execution_count": 2,
   "id": "0841f1cf",
   "metadata": {},
   "outputs": [],
   "source": [
    "fortune = pd.read_csv(filepath_or_buffer=\"data/Fortune 1000 Companies by Revenue.csv\")"
   ]
  },
  {
   "cell_type": "code",
   "execution_count": 3,
   "id": "72ffdecf",
   "metadata": {},
   "outputs": [
    {
     "data": {
      "text/html": [
       "<div>\n",
       "<style scoped>\n",
       "    .dataframe tbody tr th:only-of-type {\n",
       "        vertical-align: middle;\n",
       "    }\n",
       "\n",
       "    .dataframe tbody tr th {\n",
       "        vertical-align: top;\n",
       "    }\n",
       "\n",
       "    .dataframe thead th {\n",
       "        text-align: right;\n",
       "    }\n",
       "</style>\n",
       "<table border=\"1\" class=\"dataframe\">\n",
       "  <thead>\n",
       "    <tr style=\"text-align: right;\">\n",
       "      <th></th>\n",
       "      <th>rank</th>\n",
       "      <th>name</th>\n",
       "      <th>revenues</th>\n",
       "      <th>revenue_percent_change</th>\n",
       "      <th>profits</th>\n",
       "      <th>profits_percent_change</th>\n",
       "      <th>assets</th>\n",
       "      <th>market_value</th>\n",
       "      <th>change_in_rank</th>\n",
       "      <th>employees</th>\n",
       "    </tr>\n",
       "  </thead>\n",
       "  <tbody>\n",
       "    <tr>\n",
       "      <th>0</th>\n",
       "      <td>1</td>\n",
       "      <td>Walmart</td>\n",
       "      <td>$572,754</td>\n",
       "      <td>2.40%</td>\n",
       "      <td>$13,673</td>\n",
       "      <td>1.20%</td>\n",
       "      <td>$244,860</td>\n",
       "      <td>$409,795</td>\n",
       "      <td>-</td>\n",
       "      <td>2,300,000</td>\n",
       "    </tr>\n",
       "    <tr>\n",
       "      <th>1</th>\n",
       "      <td>2</td>\n",
       "      <td>Amazon</td>\n",
       "      <td>$469,822</td>\n",
       "      <td>21.70%</td>\n",
       "      <td>$33,364</td>\n",
       "      <td>56.40%</td>\n",
       "      <td>$420,549</td>\n",
       "      <td>$1,658,807.30</td>\n",
       "      <td>-</td>\n",
       "      <td>1,608,000</td>\n",
       "    </tr>\n",
       "    <tr>\n",
       "      <th>2</th>\n",
       "      <td>3</td>\n",
       "      <td>Apple</td>\n",
       "      <td>$365,817</td>\n",
       "      <td>33.30%</td>\n",
       "      <td>$94,680</td>\n",
       "      <td>64.90%</td>\n",
       "      <td>$351,002</td>\n",
       "      <td>$2,849,537.60</td>\n",
       "      <td>-</td>\n",
       "      <td>154,000</td>\n",
       "    </tr>\n",
       "    <tr>\n",
       "      <th>3</th>\n",
       "      <td>4</td>\n",
       "      <td>CVS Health</td>\n",
       "      <td>$292,111</td>\n",
       "      <td>8.70%</td>\n",
       "      <td>$7,910</td>\n",
       "      <td>10.20%</td>\n",
       "      <td>$232,999</td>\n",
       "      <td>$132,839.20</td>\n",
       "      <td>-</td>\n",
       "      <td>258,000</td>\n",
       "    </tr>\n",
       "    <tr>\n",
       "      <th>4</th>\n",
       "      <td>5</td>\n",
       "      <td>UnitedHealth Group</td>\n",
       "      <td>$287,597</td>\n",
       "      <td>11.80%</td>\n",
       "      <td>$17,285</td>\n",
       "      <td>12.20%</td>\n",
       "      <td>$212,206</td>\n",
       "      <td>$479,830.30</td>\n",
       "      <td>-</td>\n",
       "      <td>350,000</td>\n",
       "    </tr>\n",
       "    <tr>\n",
       "      <th>...</th>\n",
       "      <td>...</td>\n",
       "      <td>...</td>\n",
       "      <td>...</td>\n",
       "      <td>...</td>\n",
       "      <td>...</td>\n",
       "      <td>...</td>\n",
       "      <td>...</td>\n",
       "      <td>...</td>\n",
       "      <td>...</td>\n",
       "      <td>...</td>\n",
       "    </tr>\n",
       "    <tr>\n",
       "      <th>995</th>\n",
       "      <td>996</td>\n",
       "      <td>Vizio Holding</td>\n",
       "      <td>$2,124</td>\n",
       "      <td>4%</td>\n",
       "      <td>($39.40)</td>\n",
       "      <td>-138.40%</td>\n",
       "      <td>$935.80</td>\n",
       "      <td>$1,705.10</td>\n",
       "      <td>-</td>\n",
       "      <td>800</td>\n",
       "    </tr>\n",
       "    <tr>\n",
       "      <th>996</th>\n",
       "      <td>997</td>\n",
       "      <td>1-800-Flowers.com</td>\n",
       "      <td>$2,122.20</td>\n",
       "      <td>42.50%</td>\n",
       "      <td>$118.70</td>\n",
       "      <td>101.10%</td>\n",
       "      <td>$1,076.70</td>\n",
       "      <td>$830</td>\n",
       "      <td>-</td>\n",
       "      <td>4,800</td>\n",
       "    </tr>\n",
       "    <tr>\n",
       "      <th>997</th>\n",
       "      <td>998</td>\n",
       "      <td>Cowen</td>\n",
       "      <td>$2,112.80</td>\n",
       "      <td>30.20%</td>\n",
       "      <td>$295.60</td>\n",
       "      <td>36.60%</td>\n",
       "      <td>$8,748.80</td>\n",
       "      <td>$744.10</td>\n",
       "      <td>-</td>\n",
       "      <td>1,534</td>\n",
       "    </tr>\n",
       "    <tr>\n",
       "      <th>998</th>\n",
       "      <td>999</td>\n",
       "      <td>Ashland Global Holdings</td>\n",
       "      <td>$2,111</td>\n",
       "      <td>-11.20%</td>\n",
       "      <td>$220</td>\n",
       "      <td>-</td>\n",
       "      <td>$6,612</td>\n",
       "      <td>$5,601.90</td>\n",
       "      <td>-130</td>\n",
       "      <td>4,100</td>\n",
       "    </tr>\n",
       "    <tr>\n",
       "      <th>999</th>\n",
       "      <td>1,000</td>\n",
       "      <td>DocuSign</td>\n",
       "      <td>$2,107.20</td>\n",
       "      <td>45%</td>\n",
       "      <td>($70)</td>\n",
       "      <td>-</td>\n",
       "      <td>$2,541.30</td>\n",
       "      <td>$21,302.80</td>\n",
       "      <td>-</td>\n",
       "      <td>7,461</td>\n",
       "    </tr>\n",
       "  </tbody>\n",
       "</table>\n",
       "<p>1000 rows × 10 columns</p>\n",
       "</div>"
      ],
      "text/plain": [
       "     rank                     name    revenues  revenue_percent_change  \\\n",
       "0        1                  Walmart   $572,754                   2.40%   \n",
       "1        2                   Amazon   $469,822                  21.70%   \n",
       "2        3                    Apple   $365,817                  33.30%   \n",
       "3        4               CVS Health   $292,111                   8.70%   \n",
       "4        5       UnitedHealth Group   $287,597                  11.80%   \n",
       "..     ...                      ...         ...                    ...   \n",
       "995    996            Vizio Holding     $2,124                      4%   \n",
       "996    997        1-800-Flowers.com  $2,122.20                  42.50%   \n",
       "997    998                    Cowen  $2,112.80                  30.20%   \n",
       "998    999  Ashland Global Holdings     $2,111                 -11.20%   \n",
       "999  1,000                 DocuSign  $2,107.20                     45%   \n",
       "\n",
       "     profits  profits_percent_change      assets   market_value   \\\n",
       "0    $13,673                   1.20%   $244,860        $409,795    \n",
       "1    $33,364                  56.40%   $420,549   $1,658,807.30    \n",
       "2    $94,680                  64.90%   $351,002   $2,849,537.60    \n",
       "3     $7,910                  10.20%   $232,999     $132,839.20    \n",
       "4    $17,285                  12.20%   $212,206     $479,830.30    \n",
       "..        ...                    ...         ...             ...   \n",
       "995  ($39.40)               -138.40%    $935.80       $1,705.10    \n",
       "996  $118.70                 101.10%  $1,076.70            $830    \n",
       "997  $295.60                  36.60%  $8,748.80         $744.10    \n",
       "998     $220                       -     $6,612       $5,601.90    \n",
       "999     ($70)                      -  $2,541.30      $21,302.80    \n",
       "\n",
       "    change_in_rank employees   \n",
       "0                -  2,300,000  \n",
       "1                -  1,608,000  \n",
       "2                -    154,000  \n",
       "3                -    258,000  \n",
       "4                -    350,000  \n",
       "..             ...        ...  \n",
       "995              -        800  \n",
       "996              -      4,800  \n",
       "997              -      1,534  \n",
       "998           -130      4,100  \n",
       "999              -      7,461  \n",
       "\n",
       "[1000 rows x 10 columns]"
      ]
     },
     "execution_count": 3,
     "metadata": {},
     "output_type": "execute_result"
    }
   ],
   "source": [
    "fortune"
   ]
  },
  {
   "cell_type": "code",
   "execution_count": 4,
   "id": "07fe6596",
   "metadata": {},
   "outputs": [
    {
     "name": "stdout",
     "output_type": "stream",
     "text": [
      "<class 'pandas.core.frame.DataFrame'>\n",
      "RangeIndex: 1000 entries, 0 to 999\n",
      "Data columns (total 10 columns):\n",
      " #   Column                  Non-Null Count  Dtype \n",
      "---  ------                  --------------  ----- \n",
      " 0   rank                    1000 non-null   object\n",
      " 1   name                    1000 non-null   object\n",
      " 2   revenues                1000 non-null   object\n",
      " 3   revenue_percent_change  1000 non-null   object\n",
      " 4   profits                 1000 non-null   object\n",
      " 5   profits_percent_change  1000 non-null   object\n",
      " 6   assets                  1000 non-null   object\n",
      " 7   market_value            1000 non-null   object\n",
      " 8   change_in_rank          1000 non-null   object\n",
      " 9   employees               1000 non-null   object\n",
      "dtypes: object(10)\n",
      "memory usage: 78.2+ KB\n"
     ]
    }
   ],
   "source": [
    "fortune.info()"
   ]
  },
  {
   "cell_type": "code",
   "execution_count": 5,
   "id": "f92b3e10",
   "metadata": {},
   "outputs": [],
   "source": [
    "#here we are converting the revenues column to numeric. type\n",
    "cleaned_revenues_list = []\n",
    "for revenue in list(fortune[\"revenues \"]):\n",
    "    cleaned_revenues_list.append(float(revenue.strip(\"$\").replace(\",\", \"_\")))"
   ]
  },
  {
   "cell_type": "code",
   "execution_count": 6,
   "id": "4d832cb6",
   "metadata": {},
   "outputs": [],
   "source": [
    "old_column_names = list(fortune.columns)\n",
    "new_column_names = [column.strip(\" \")for column in old_column_names]\n",
    "column_name_mapper = {}\n",
    "for column in old_column_names:\n",
    "    column_name_mapper[column] = new_column_names[old_column_names.index(column)]"
   ]
  },
  {
   "cell_type": "code",
   "execution_count": 7,
   "id": "3d5fa2a3",
   "metadata": {},
   "outputs": [],
   "source": [
    "fortune.rename(columns=column_name_mapper, inplace=True)"
   ]
  },
  {
   "cell_type": "code",
   "execution_count": 8,
   "id": "9b8cf2f7",
   "metadata": {},
   "outputs": [
    {
     "data": {
      "text/html": [
       "<div>\n",
       "<style scoped>\n",
       "    .dataframe tbody tr th:only-of-type {\n",
       "        vertical-align: middle;\n",
       "    }\n",
       "\n",
       "    .dataframe tbody tr th {\n",
       "        vertical-align: top;\n",
       "    }\n",
       "\n",
       "    .dataframe thead th {\n",
       "        text-align: right;\n",
       "    }\n",
       "</style>\n",
       "<table border=\"1\" class=\"dataframe\">\n",
       "  <thead>\n",
       "    <tr style=\"text-align: right;\">\n",
       "      <th></th>\n",
       "      <th>rank</th>\n",
       "      <th>name</th>\n",
       "      <th>revenues</th>\n",
       "      <th>revenue_percent_change</th>\n",
       "      <th>profits</th>\n",
       "      <th>profits_percent_change</th>\n",
       "      <th>assets</th>\n",
       "      <th>market_value</th>\n",
       "      <th>change_in_rank</th>\n",
       "      <th>employees</th>\n",
       "    </tr>\n",
       "  </thead>\n",
       "  <tbody>\n",
       "    <tr>\n",
       "      <th>0</th>\n",
       "      <td>1</td>\n",
       "      <td>Walmart</td>\n",
       "      <td>$572,754</td>\n",
       "      <td>2.40%</td>\n",
       "      <td>$13,673</td>\n",
       "      <td>1.20%</td>\n",
       "      <td>$244,860</td>\n",
       "      <td>$409,795</td>\n",
       "      <td>-</td>\n",
       "      <td>2,300,000</td>\n",
       "    </tr>\n",
       "    <tr>\n",
       "      <th>1</th>\n",
       "      <td>2</td>\n",
       "      <td>Amazon</td>\n",
       "      <td>$469,822</td>\n",
       "      <td>21.70%</td>\n",
       "      <td>$33,364</td>\n",
       "      <td>56.40%</td>\n",
       "      <td>$420,549</td>\n",
       "      <td>$1,658,807.30</td>\n",
       "      <td>-</td>\n",
       "      <td>1,608,000</td>\n",
       "    </tr>\n",
       "    <tr>\n",
       "      <th>2</th>\n",
       "      <td>3</td>\n",
       "      <td>Apple</td>\n",
       "      <td>$365,817</td>\n",
       "      <td>33.30%</td>\n",
       "      <td>$94,680</td>\n",
       "      <td>64.90%</td>\n",
       "      <td>$351,002</td>\n",
       "      <td>$2,849,537.60</td>\n",
       "      <td>-</td>\n",
       "      <td>154,000</td>\n",
       "    </tr>\n",
       "    <tr>\n",
       "      <th>3</th>\n",
       "      <td>4</td>\n",
       "      <td>CVS Health</td>\n",
       "      <td>$292,111</td>\n",
       "      <td>8.70%</td>\n",
       "      <td>$7,910</td>\n",
       "      <td>10.20%</td>\n",
       "      <td>$232,999</td>\n",
       "      <td>$132,839.20</td>\n",
       "      <td>-</td>\n",
       "      <td>258,000</td>\n",
       "    </tr>\n",
       "    <tr>\n",
       "      <th>4</th>\n",
       "      <td>5</td>\n",
       "      <td>UnitedHealth Group</td>\n",
       "      <td>$287,597</td>\n",
       "      <td>11.80%</td>\n",
       "      <td>$17,285</td>\n",
       "      <td>12.20%</td>\n",
       "      <td>$212,206</td>\n",
       "      <td>$479,830.30</td>\n",
       "      <td>-</td>\n",
       "      <td>350,000</td>\n",
       "    </tr>\n",
       "    <tr>\n",
       "      <th>...</th>\n",
       "      <td>...</td>\n",
       "      <td>...</td>\n",
       "      <td>...</td>\n",
       "      <td>...</td>\n",
       "      <td>...</td>\n",
       "      <td>...</td>\n",
       "      <td>...</td>\n",
       "      <td>...</td>\n",
       "      <td>...</td>\n",
       "      <td>...</td>\n",
       "    </tr>\n",
       "    <tr>\n",
       "      <th>995</th>\n",
       "      <td>996</td>\n",
       "      <td>Vizio Holding</td>\n",
       "      <td>$2,124</td>\n",
       "      <td>4%</td>\n",
       "      <td>($39.40)</td>\n",
       "      <td>-138.40%</td>\n",
       "      <td>$935.80</td>\n",
       "      <td>$1,705.10</td>\n",
       "      <td>-</td>\n",
       "      <td>800</td>\n",
       "    </tr>\n",
       "    <tr>\n",
       "      <th>996</th>\n",
       "      <td>997</td>\n",
       "      <td>1-800-Flowers.com</td>\n",
       "      <td>$2,122.20</td>\n",
       "      <td>42.50%</td>\n",
       "      <td>$118.70</td>\n",
       "      <td>101.10%</td>\n",
       "      <td>$1,076.70</td>\n",
       "      <td>$830</td>\n",
       "      <td>-</td>\n",
       "      <td>4,800</td>\n",
       "    </tr>\n",
       "    <tr>\n",
       "      <th>997</th>\n",
       "      <td>998</td>\n",
       "      <td>Cowen</td>\n",
       "      <td>$2,112.80</td>\n",
       "      <td>30.20%</td>\n",
       "      <td>$295.60</td>\n",
       "      <td>36.60%</td>\n",
       "      <td>$8,748.80</td>\n",
       "      <td>$744.10</td>\n",
       "      <td>-</td>\n",
       "      <td>1,534</td>\n",
       "    </tr>\n",
       "    <tr>\n",
       "      <th>998</th>\n",
       "      <td>999</td>\n",
       "      <td>Ashland Global Holdings</td>\n",
       "      <td>$2,111</td>\n",
       "      <td>-11.20%</td>\n",
       "      <td>$220</td>\n",
       "      <td>-</td>\n",
       "      <td>$6,612</td>\n",
       "      <td>$5,601.90</td>\n",
       "      <td>-130</td>\n",
       "      <td>4,100</td>\n",
       "    </tr>\n",
       "    <tr>\n",
       "      <th>999</th>\n",
       "      <td>1,000</td>\n",
       "      <td>DocuSign</td>\n",
       "      <td>$2,107.20</td>\n",
       "      <td>45%</td>\n",
       "      <td>($70)</td>\n",
       "      <td>-</td>\n",
       "      <td>$2,541.30</td>\n",
       "      <td>$21,302.80</td>\n",
       "      <td>-</td>\n",
       "      <td>7,461</td>\n",
       "    </tr>\n",
       "  </tbody>\n",
       "</table>\n",
       "<p>1000 rows × 10 columns</p>\n",
       "</div>"
      ],
      "text/plain": [
       "      rank                     name    revenues revenue_percent_change  \\\n",
       "0        1                  Walmart   $572,754                   2.40%   \n",
       "1        2                   Amazon   $469,822                  21.70%   \n",
       "2        3                    Apple   $365,817                  33.30%   \n",
       "3        4               CVS Health   $292,111                   8.70%   \n",
       "4        5       UnitedHealth Group   $287,597                  11.80%   \n",
       "..     ...                      ...         ...                    ...   \n",
       "995    996            Vizio Holding     $2,124                      4%   \n",
       "996    997        1-800-Flowers.com  $2,122.20                  42.50%   \n",
       "997    998                    Cowen  $2,112.80                  30.20%   \n",
       "998    999  Ashland Global Holdings     $2,111                 -11.20%   \n",
       "999  1,000                 DocuSign  $2,107.20                     45%   \n",
       "\n",
       "      profits profits_percent_change      assets    market_value  \\\n",
       "0    $13,673                   1.20%   $244,860        $409,795    \n",
       "1    $33,364                  56.40%   $420,549   $1,658,807.30    \n",
       "2    $94,680                  64.90%   $351,002   $2,849,537.60    \n",
       "3     $7,910                  10.20%   $232,999     $132,839.20    \n",
       "4    $17,285                  12.20%   $212,206     $479,830.30    \n",
       "..        ...                    ...         ...             ...   \n",
       "995  ($39.40)               -138.40%    $935.80       $1,705.10    \n",
       "996  $118.70                 101.10%  $1,076.70            $830    \n",
       "997  $295.60                  36.60%  $8,748.80         $744.10    \n",
       "998     $220                       -     $6,612       $5,601.90    \n",
       "999     ($70)                      -  $2,541.30      $21,302.80    \n",
       "\n",
       "    change_in_rank  employees  \n",
       "0                -  2,300,000  \n",
       "1                -  1,608,000  \n",
       "2                -    154,000  \n",
       "3                -    258,000  \n",
       "4                -    350,000  \n",
       "..             ...        ...  \n",
       "995              -        800  \n",
       "996              -      4,800  \n",
       "997              -      1,534  \n",
       "998           -130      4,100  \n",
       "999              -      7,461  \n",
       "\n",
       "[1000 rows x 10 columns]"
      ]
     },
     "execution_count": 8,
     "metadata": {},
     "output_type": "execute_result"
    }
   ],
   "source": [
    "fortune"
   ]
  },
  {
   "cell_type": "code",
   "execution_count": 9,
   "id": "53987061",
   "metadata": {},
   "outputs": [],
   "source": [
    "fortune.drop(labels=[\"revenues\"], axis=1, inplace=True)"
   ]
  },
  {
   "cell_type": "code",
   "execution_count": 10,
   "id": "d99648b3",
   "metadata": {},
   "outputs": [
    {
     "data": {
      "text/html": [
       "<div>\n",
       "<style scoped>\n",
       "    .dataframe tbody tr th:only-of-type {\n",
       "        vertical-align: middle;\n",
       "    }\n",
       "\n",
       "    .dataframe tbody tr th {\n",
       "        vertical-align: top;\n",
       "    }\n",
       "\n",
       "    .dataframe thead th {\n",
       "        text-align: right;\n",
       "    }\n",
       "</style>\n",
       "<table border=\"1\" class=\"dataframe\">\n",
       "  <thead>\n",
       "    <tr style=\"text-align: right;\">\n",
       "      <th></th>\n",
       "      <th>rank</th>\n",
       "      <th>name</th>\n",
       "      <th>revenue_percent_change</th>\n",
       "      <th>profits</th>\n",
       "      <th>profits_percent_change</th>\n",
       "      <th>assets</th>\n",
       "      <th>market_value</th>\n",
       "      <th>change_in_rank</th>\n",
       "      <th>employees</th>\n",
       "    </tr>\n",
       "  </thead>\n",
       "  <tbody>\n",
       "    <tr>\n",
       "      <th>0</th>\n",
       "      <td>1</td>\n",
       "      <td>Walmart</td>\n",
       "      <td>2.40%</td>\n",
       "      <td>$13,673</td>\n",
       "      <td>1.20%</td>\n",
       "      <td>$244,860</td>\n",
       "      <td>$409,795</td>\n",
       "      <td>-</td>\n",
       "      <td>2,300,000</td>\n",
       "    </tr>\n",
       "    <tr>\n",
       "      <th>1</th>\n",
       "      <td>2</td>\n",
       "      <td>Amazon</td>\n",
       "      <td>21.70%</td>\n",
       "      <td>$33,364</td>\n",
       "      <td>56.40%</td>\n",
       "      <td>$420,549</td>\n",
       "      <td>$1,658,807.30</td>\n",
       "      <td>-</td>\n",
       "      <td>1,608,000</td>\n",
       "    </tr>\n",
       "    <tr>\n",
       "      <th>2</th>\n",
       "      <td>3</td>\n",
       "      <td>Apple</td>\n",
       "      <td>33.30%</td>\n",
       "      <td>$94,680</td>\n",
       "      <td>64.90%</td>\n",
       "      <td>$351,002</td>\n",
       "      <td>$2,849,537.60</td>\n",
       "      <td>-</td>\n",
       "      <td>154,000</td>\n",
       "    </tr>\n",
       "    <tr>\n",
       "      <th>3</th>\n",
       "      <td>4</td>\n",
       "      <td>CVS Health</td>\n",
       "      <td>8.70%</td>\n",
       "      <td>$7,910</td>\n",
       "      <td>10.20%</td>\n",
       "      <td>$232,999</td>\n",
       "      <td>$132,839.20</td>\n",
       "      <td>-</td>\n",
       "      <td>258,000</td>\n",
       "    </tr>\n",
       "    <tr>\n",
       "      <th>4</th>\n",
       "      <td>5</td>\n",
       "      <td>UnitedHealth Group</td>\n",
       "      <td>11.80%</td>\n",
       "      <td>$17,285</td>\n",
       "      <td>12.20%</td>\n",
       "      <td>$212,206</td>\n",
       "      <td>$479,830.30</td>\n",
       "      <td>-</td>\n",
       "      <td>350,000</td>\n",
       "    </tr>\n",
       "    <tr>\n",
       "      <th>...</th>\n",
       "      <td>...</td>\n",
       "      <td>...</td>\n",
       "      <td>...</td>\n",
       "      <td>...</td>\n",
       "      <td>...</td>\n",
       "      <td>...</td>\n",
       "      <td>...</td>\n",
       "      <td>...</td>\n",
       "      <td>...</td>\n",
       "    </tr>\n",
       "    <tr>\n",
       "      <th>995</th>\n",
       "      <td>996</td>\n",
       "      <td>Vizio Holding</td>\n",
       "      <td>4%</td>\n",
       "      <td>($39.40)</td>\n",
       "      <td>-138.40%</td>\n",
       "      <td>$935.80</td>\n",
       "      <td>$1,705.10</td>\n",
       "      <td>-</td>\n",
       "      <td>800</td>\n",
       "    </tr>\n",
       "    <tr>\n",
       "      <th>996</th>\n",
       "      <td>997</td>\n",
       "      <td>1-800-Flowers.com</td>\n",
       "      <td>42.50%</td>\n",
       "      <td>$118.70</td>\n",
       "      <td>101.10%</td>\n",
       "      <td>$1,076.70</td>\n",
       "      <td>$830</td>\n",
       "      <td>-</td>\n",
       "      <td>4,800</td>\n",
       "    </tr>\n",
       "    <tr>\n",
       "      <th>997</th>\n",
       "      <td>998</td>\n",
       "      <td>Cowen</td>\n",
       "      <td>30.20%</td>\n",
       "      <td>$295.60</td>\n",
       "      <td>36.60%</td>\n",
       "      <td>$8,748.80</td>\n",
       "      <td>$744.10</td>\n",
       "      <td>-</td>\n",
       "      <td>1,534</td>\n",
       "    </tr>\n",
       "    <tr>\n",
       "      <th>998</th>\n",
       "      <td>999</td>\n",
       "      <td>Ashland Global Holdings</td>\n",
       "      <td>-11.20%</td>\n",
       "      <td>$220</td>\n",
       "      <td>-</td>\n",
       "      <td>$6,612</td>\n",
       "      <td>$5,601.90</td>\n",
       "      <td>-130</td>\n",
       "      <td>4,100</td>\n",
       "    </tr>\n",
       "    <tr>\n",
       "      <th>999</th>\n",
       "      <td>1,000</td>\n",
       "      <td>DocuSign</td>\n",
       "      <td>45%</td>\n",
       "      <td>($70)</td>\n",
       "      <td>-</td>\n",
       "      <td>$2,541.30</td>\n",
       "      <td>$21,302.80</td>\n",
       "      <td>-</td>\n",
       "      <td>7,461</td>\n",
       "    </tr>\n",
       "  </tbody>\n",
       "</table>\n",
       "<p>1000 rows × 9 columns</p>\n",
       "</div>"
      ],
      "text/plain": [
       "      rank                     name revenue_percent_change   profits  \\\n",
       "0        1                  Walmart                  2.40%  $13,673    \n",
       "1        2                   Amazon                 21.70%  $33,364    \n",
       "2        3                    Apple                 33.30%  $94,680    \n",
       "3        4               CVS Health                  8.70%   $7,910    \n",
       "4        5       UnitedHealth Group                 11.80%  $17,285    \n",
       "..     ...                      ...                    ...       ...   \n",
       "995    996            Vizio Holding                     4%  ($39.40)   \n",
       "996    997        1-800-Flowers.com                 42.50%  $118.70    \n",
       "997    998                    Cowen                 30.20%  $295.60    \n",
       "998    999  Ashland Global Holdings                -11.20%     $220    \n",
       "999  1,000                 DocuSign                    45%     ($70)   \n",
       "\n",
       "    profits_percent_change      assets    market_value change_in_rank  \\\n",
       "0                    1.20%   $244,860        $409,795               -   \n",
       "1                   56.40%   $420,549   $1,658,807.30               -   \n",
       "2                   64.90%   $351,002   $2,849,537.60               -   \n",
       "3                   10.20%   $232,999     $132,839.20               -   \n",
       "4                   12.20%   $212,206     $479,830.30               -   \n",
       "..                     ...         ...             ...            ...   \n",
       "995               -138.40%    $935.80       $1,705.10               -   \n",
       "996                101.10%  $1,076.70            $830               -   \n",
       "997                 36.60%  $8,748.80         $744.10               -   \n",
       "998                      -     $6,612       $5,601.90            -130   \n",
       "999                      -  $2,541.30      $21,302.80               -   \n",
       "\n",
       "     employees  \n",
       "0    2,300,000  \n",
       "1    1,608,000  \n",
       "2      154,000  \n",
       "3      258,000  \n",
       "4      350,000  \n",
       "..         ...  \n",
       "995        800  \n",
       "996      4,800  \n",
       "997      1,534  \n",
       "998      4,100  \n",
       "999      7,461  \n",
       "\n",
       "[1000 rows x 9 columns]"
      ]
     },
     "execution_count": 10,
     "metadata": {},
     "output_type": "execute_result"
    }
   ],
   "source": [
    "fortune"
   ]
  },
  {
   "cell_type": "code",
   "execution_count": 11,
   "id": "345d94ea",
   "metadata": {},
   "outputs": [],
   "source": [
    "fortune.insert(loc=2, column=\"revenues\", value=cleaned_revenues_list)"
   ]
  },
  {
   "cell_type": "code",
   "execution_count": 12,
   "id": "9c9e80aa",
   "metadata": {},
   "outputs": [
    {
     "data": {
      "text/html": [
       "<div>\n",
       "<style scoped>\n",
       "    .dataframe tbody tr th:only-of-type {\n",
       "        vertical-align: middle;\n",
       "    }\n",
       "\n",
       "    .dataframe tbody tr th {\n",
       "        vertical-align: top;\n",
       "    }\n",
       "\n",
       "    .dataframe thead th {\n",
       "        text-align: right;\n",
       "    }\n",
       "</style>\n",
       "<table border=\"1\" class=\"dataframe\">\n",
       "  <thead>\n",
       "    <tr style=\"text-align: right;\">\n",
       "      <th></th>\n",
       "      <th>rank</th>\n",
       "      <th>name</th>\n",
       "      <th>revenues</th>\n",
       "      <th>revenue_percent_change</th>\n",
       "      <th>profits</th>\n",
       "      <th>profits_percent_change</th>\n",
       "      <th>assets</th>\n",
       "      <th>market_value</th>\n",
       "      <th>change_in_rank</th>\n",
       "      <th>employees</th>\n",
       "    </tr>\n",
       "  </thead>\n",
       "  <tbody>\n",
       "    <tr>\n",
       "      <th>0</th>\n",
       "      <td>1</td>\n",
       "      <td>Walmart</td>\n",
       "      <td>572754.0</td>\n",
       "      <td>2.40%</td>\n",
       "      <td>$13,673</td>\n",
       "      <td>1.20%</td>\n",
       "      <td>$244,860</td>\n",
       "      <td>$409,795</td>\n",
       "      <td>-</td>\n",
       "      <td>2,300,000</td>\n",
       "    </tr>\n",
       "    <tr>\n",
       "      <th>1</th>\n",
       "      <td>2</td>\n",
       "      <td>Amazon</td>\n",
       "      <td>469822.0</td>\n",
       "      <td>21.70%</td>\n",
       "      <td>$33,364</td>\n",
       "      <td>56.40%</td>\n",
       "      <td>$420,549</td>\n",
       "      <td>$1,658,807.30</td>\n",
       "      <td>-</td>\n",
       "      <td>1,608,000</td>\n",
       "    </tr>\n",
       "    <tr>\n",
       "      <th>2</th>\n",
       "      <td>3</td>\n",
       "      <td>Apple</td>\n",
       "      <td>365817.0</td>\n",
       "      <td>33.30%</td>\n",
       "      <td>$94,680</td>\n",
       "      <td>64.90%</td>\n",
       "      <td>$351,002</td>\n",
       "      <td>$2,849,537.60</td>\n",
       "      <td>-</td>\n",
       "      <td>154,000</td>\n",
       "    </tr>\n",
       "    <tr>\n",
       "      <th>3</th>\n",
       "      <td>4</td>\n",
       "      <td>CVS Health</td>\n",
       "      <td>292111.0</td>\n",
       "      <td>8.70%</td>\n",
       "      <td>$7,910</td>\n",
       "      <td>10.20%</td>\n",
       "      <td>$232,999</td>\n",
       "      <td>$132,839.20</td>\n",
       "      <td>-</td>\n",
       "      <td>258,000</td>\n",
       "    </tr>\n",
       "    <tr>\n",
       "      <th>4</th>\n",
       "      <td>5</td>\n",
       "      <td>UnitedHealth Group</td>\n",
       "      <td>287597.0</td>\n",
       "      <td>11.80%</td>\n",
       "      <td>$17,285</td>\n",
       "      <td>12.20%</td>\n",
       "      <td>$212,206</td>\n",
       "      <td>$479,830.30</td>\n",
       "      <td>-</td>\n",
       "      <td>350,000</td>\n",
       "    </tr>\n",
       "    <tr>\n",
       "      <th>...</th>\n",
       "      <td>...</td>\n",
       "      <td>...</td>\n",
       "      <td>...</td>\n",
       "      <td>...</td>\n",
       "      <td>...</td>\n",
       "      <td>...</td>\n",
       "      <td>...</td>\n",
       "      <td>...</td>\n",
       "      <td>...</td>\n",
       "      <td>...</td>\n",
       "    </tr>\n",
       "    <tr>\n",
       "      <th>995</th>\n",
       "      <td>996</td>\n",
       "      <td>Vizio Holding</td>\n",
       "      <td>2124.0</td>\n",
       "      <td>4%</td>\n",
       "      <td>($39.40)</td>\n",
       "      <td>-138.40%</td>\n",
       "      <td>$935.80</td>\n",
       "      <td>$1,705.10</td>\n",
       "      <td>-</td>\n",
       "      <td>800</td>\n",
       "    </tr>\n",
       "    <tr>\n",
       "      <th>996</th>\n",
       "      <td>997</td>\n",
       "      <td>1-800-Flowers.com</td>\n",
       "      <td>2122.2</td>\n",
       "      <td>42.50%</td>\n",
       "      <td>$118.70</td>\n",
       "      <td>101.10%</td>\n",
       "      <td>$1,076.70</td>\n",
       "      <td>$830</td>\n",
       "      <td>-</td>\n",
       "      <td>4,800</td>\n",
       "    </tr>\n",
       "    <tr>\n",
       "      <th>997</th>\n",
       "      <td>998</td>\n",
       "      <td>Cowen</td>\n",
       "      <td>2112.8</td>\n",
       "      <td>30.20%</td>\n",
       "      <td>$295.60</td>\n",
       "      <td>36.60%</td>\n",
       "      <td>$8,748.80</td>\n",
       "      <td>$744.10</td>\n",
       "      <td>-</td>\n",
       "      <td>1,534</td>\n",
       "    </tr>\n",
       "    <tr>\n",
       "      <th>998</th>\n",
       "      <td>999</td>\n",
       "      <td>Ashland Global Holdings</td>\n",
       "      <td>2111.0</td>\n",
       "      <td>-11.20%</td>\n",
       "      <td>$220</td>\n",
       "      <td>-</td>\n",
       "      <td>$6,612</td>\n",
       "      <td>$5,601.90</td>\n",
       "      <td>-130</td>\n",
       "      <td>4,100</td>\n",
       "    </tr>\n",
       "    <tr>\n",
       "      <th>999</th>\n",
       "      <td>1,000</td>\n",
       "      <td>DocuSign</td>\n",
       "      <td>2107.2</td>\n",
       "      <td>45%</td>\n",
       "      <td>($70)</td>\n",
       "      <td>-</td>\n",
       "      <td>$2,541.30</td>\n",
       "      <td>$21,302.80</td>\n",
       "      <td>-</td>\n",
       "      <td>7,461</td>\n",
       "    </tr>\n",
       "  </tbody>\n",
       "</table>\n",
       "<p>1000 rows × 10 columns</p>\n",
       "</div>"
      ],
      "text/plain": [
       "      rank                     name  revenues revenue_percent_change  \\\n",
       "0        1                  Walmart  572754.0                  2.40%   \n",
       "1        2                   Amazon  469822.0                 21.70%   \n",
       "2        3                    Apple  365817.0                 33.30%   \n",
       "3        4               CVS Health  292111.0                  8.70%   \n",
       "4        5       UnitedHealth Group  287597.0                 11.80%   \n",
       "..     ...                      ...       ...                    ...   \n",
       "995    996            Vizio Holding    2124.0                     4%   \n",
       "996    997        1-800-Flowers.com    2122.2                 42.50%   \n",
       "997    998                    Cowen    2112.8                 30.20%   \n",
       "998    999  Ashland Global Holdings    2111.0                -11.20%   \n",
       "999  1,000                 DocuSign    2107.2                    45%   \n",
       "\n",
       "      profits profits_percent_change      assets    market_value  \\\n",
       "0    $13,673                   1.20%   $244,860        $409,795    \n",
       "1    $33,364                  56.40%   $420,549   $1,658,807.30    \n",
       "2    $94,680                  64.90%   $351,002   $2,849,537.60    \n",
       "3     $7,910                  10.20%   $232,999     $132,839.20    \n",
       "4    $17,285                  12.20%   $212,206     $479,830.30    \n",
       "..        ...                    ...         ...             ...   \n",
       "995  ($39.40)               -138.40%    $935.80       $1,705.10    \n",
       "996  $118.70                 101.10%  $1,076.70            $830    \n",
       "997  $295.60                  36.60%  $8,748.80         $744.10    \n",
       "998     $220                       -     $6,612       $5,601.90    \n",
       "999     ($70)                      -  $2,541.30      $21,302.80    \n",
       "\n",
       "    change_in_rank  employees  \n",
       "0                -  2,300,000  \n",
       "1                -  1,608,000  \n",
       "2                -    154,000  \n",
       "3                -    258,000  \n",
       "4                -    350,000  \n",
       "..             ...        ...  \n",
       "995              -        800  \n",
       "996              -      4,800  \n",
       "997              -      1,534  \n",
       "998           -130      4,100  \n",
       "999              -      7,461  \n",
       "\n",
       "[1000 rows x 10 columns]"
      ]
     },
     "execution_count": 12,
     "metadata": {},
     "output_type": "execute_result"
    }
   ],
   "source": [
    "fortune"
   ]
  },
  {
   "cell_type": "code",
   "execution_count": 13,
   "id": "88275868",
   "metadata": {},
   "outputs": [],
   "source": [
    "cropped_df = fortune.sort_values(\"revenues\", ascending=False).head(10)"
   ]
  },
  {
   "cell_type": "code",
   "execution_count": 14,
   "id": "2feb8cc5",
   "metadata": {},
   "outputs": [
    {
     "data": {
      "text/plain": [
       "<AxesSubplot:xlabel='name'>"
      ]
     },
     "execution_count": 14,
     "metadata": {},
     "output_type": "execute_result"
    },
    {
     "data": {
      "image/png": "[encoded data removed]",
      "text/plain": [
       "<Figure size 432x288 with 1 Axes>"
      ]
     },
     "metadata": {
      "needs_background": "light"
     },
     "output_type": "display_data"
    }
   ],
   "source": [
    "#walmaart is the company with highest revenue folowed by amazon and apple\n",
    "cropped_df.set_index(\"name\")[\"revenues\"].sort_values(ascending=False).plot(kind=\"bar\")"
   ]
  },
  {
   "cell_type": "code",
   "execution_count": 15,
   "id": "5adddd11",
   "metadata": {},
   "outputs": [],
   "source": [
    "#lets look at the companies with lowest revenus\n",
    "cropped_df = fortune.sort_values(\"revenues\", ascending=True).head(10)"
   ]
  },
  {
   "cell_type": "code",
   "execution_count": 16,
   "id": "b9dc47cc",
   "metadata": {},
   "outputs": [
    {
     "data": {
      "text/plain": [
       "<AxesSubplot:xlabel='name'>"
      ]
     },
     "execution_count": 16,
     "metadata": {},
     "output_type": "execute_result"
    },
    {
     "data": {
      "image/png": "[encoded data removed]",
      "text/plain": [
       "<Figure size 432x288 with 1 Axes>"
      ]
     },
     "metadata": {
      "needs_background": "light"
     },
     "output_type": "display_data"
    }
   ],
   "source": [
    "# DocuSign has the lowest revenue but all of them are in the simlar range.\n",
    "cropped_df.set_index(\"name\")[\"revenues\"].plot(kind=\"bar\")"
   ]
  },
  {
   "cell_type": "code",
   "execution_count": 17,
   "id": "08217485",
   "metadata": {},
   "outputs": [],
   "source": [
    "# we will cleaning all these columns\n",
    "\n",
    "# Profit_Percent_Change\n",
    "\n",
    "# Revenues\n",
    "\n",
    "# Profits\n",
    "\n",
    "# Assets\n",
    "\n",
    "# Market_Value\n",
    "\n",
    "# Employees\n",
    "\n",
    "# cleaned_revenue_percent_change = []\n",
    "# for percentage in list(fortune[\"revenue_percent_change\"]):\n",
    "#     if percentage == \"-\":\n",
    "#         cleaned_revenue_percent_change.append(np.nan)\n",
    "#     else:\n",
    "#         clea\n",
    "\n",
    "fortune[\"revenue_percent_change\"].replace(\"-\", \"ayush\", inplace=True)\n",
    "\n",
    "    "
   ]
  },
  {
   "cell_type": "code",
   "execution_count": 18,
   "id": "554fb22f",
   "metadata": {},
   "outputs": [],
   "source": [
    "cleaned_revenue_percent_change = []\n",
    "for percent in list(fortune[\"revenue_percent_change\"]):\n",
    "    if percent != \"ayush\":\n",
    "        cleaned_revenue_percent_change.append(percent.strip(\"%\"))\n",
    "    else:\n",
    "        cleaned_revenue_percent_change.append(\"ayush\")\n"
   ]
  },
  {
   "cell_type": "code",
   "execution_count": 19,
   "id": "2a54d767",
   "metadata": {},
   "outputs": [],
   "source": [
    "fortune[\"revenue_percent_change\"] = cleaned_revenue_percent_change"
   ]
  },
  {
   "cell_type": "code",
   "execution_count": 20,
   "id": "bf72adc9",
   "metadata": {},
   "outputs": [],
   "source": [
    "fortune.replace(\"ayush\", np.NaN, inplace=True)"
   ]
  },
  {
   "cell_type": "code",
   "execution_count": 21,
   "id": "2d739a4f",
   "metadata": {},
   "outputs": [
    {
     "data": {
      "text/plain": [
       "0        2.40\n",
       "1       21.70\n",
       "2       33.30\n",
       "3        8.70\n",
       "4       11.80\n",
       "        ...  \n",
       "995         4\n",
       "996     42.50\n",
       "997     30.20\n",
       "998    -11.20\n",
       "999        45\n",
       "Name: revenue_percent_change, Length: 1000, dtype: object"
      ]
     },
     "execution_count": 21,
     "metadata": {},
     "output_type": "execute_result"
    }
   ],
   "source": [
    "fortune[\"revenue_percent_change\"]"
   ]
  },
  {
   "cell_type": "code",
   "execution_count": 22,
   "id": "e6d7a7b3",
   "metadata": {},
   "outputs": [],
   "source": [
    "fortune[\"revenue_percent_change\"] = pd.to_numeric(fortune[\"revenue_percent_change\"])"
   ]
  },
  {
   "cell_type": "code",
   "execution_count": 23,
   "id": "76742825",
   "metadata": {},
   "outputs": [
    {
     "name": "stdout",
     "output_type": "stream",
     "text": [
      "<class 'pandas.core.frame.DataFrame'>\n",
      "RangeIndex: 1000 entries, 0 to 999\n",
      "Data columns (total 10 columns):\n",
      " #   Column                  Non-Null Count  Dtype  \n",
      "---  ------                  --------------  -----  \n",
      " 0   rank                    1000 non-null   object \n",
      " 1   name                    1000 non-null   object \n",
      " 2   revenues                1000 non-null   float64\n",
      " 3   revenue_percent_change  992 non-null    float64\n",
      " 4   profits                 1000 non-null   object \n",
      " 5   profits_percent_change  1000 non-null   object \n",
      " 6   assets                  1000 non-null   object \n",
      " 7   market_value            1000 non-null   object \n",
      " 8   change_in_rank          1000 non-null   object \n",
      " 9   employees               1000 non-null   object \n",
      "dtypes: float64(2), object(8)\n",
      "memory usage: 78.2+ KB\n"
     ]
    }
   ],
   "source": [
    "fortune.info()"
   ]
  },
  {
   "cell_type": "code",
   "execution_count": 24,
   "id": "378d5743",
   "metadata": {},
   "outputs": [],
   "source": [
    "# Profit_Percent_Change\n",
    "fortune[\"profits_percent_change\"].replace(\"-\", \"ayush\", inplace=True)"
   ]
  },
  {
   "cell_type": "code",
   "execution_count": 25,
   "id": "8de5c8b8",
   "metadata": {},
   "outputs": [],
   "source": [
    "profit_percent_change_cleaned = []\n",
    "for profit_percent in fortune[\"profits_percent_change\"]:\n",
    "    if profit_percent == \"ayush\":\n",
    "        profit_percent_change_cleaned.append(\"ayush\")\n",
    "    else:\n",
    "        profit_percent_change_cleaned.append(profit_percent.strip(\"%\"))"
   ]
  },
  {
   "cell_type": "code",
   "execution_count": 26,
   "id": "5a5ad3ea",
   "metadata": {},
   "outputs": [],
   "source": [
    "fortune[\"profits_percent_change\"] = profit_percent_change_cleaned"
   ]
  },
  {
   "cell_type": "code",
   "execution_count": 27,
   "id": "1c5c8107",
   "metadata": {},
   "outputs": [],
   "source": [
    "fortune[\"profits_percent_change\"].replace(\"ayush\", np.NaN, inplace=True)"
   ]
  },
  {
   "cell_type": "code",
   "execution_count": 28,
   "id": "1f6fdd83",
   "metadata": {},
   "outputs": [],
   "source": [
    "fortune[\"profits_percent_change\"] = pd.to_numeric(fortune[\"profits_percent_change\"])"
   ]
  },
  {
   "cell_type": "code",
   "execution_count": 29,
   "id": "2d83ebb4",
   "metadata": {},
   "outputs": [
    {
     "name": "stdout",
     "output_type": "stream",
     "text": [
      "<class 'pandas.core.frame.DataFrame'>\n",
      "RangeIndex: 1000 entries, 0 to 999\n",
      "Data columns (total 10 columns):\n",
      " #   Column                  Non-Null Count  Dtype  \n",
      "---  ------                  --------------  -----  \n",
      " 0   rank                    1000 non-null   object \n",
      " 1   name                    1000 non-null   object \n",
      " 2   revenues                1000 non-null   float64\n",
      " 3   revenue_percent_change  992 non-null    float64\n",
      " 4   profits                 1000 non-null   object \n",
      " 5   profits_percent_change  727 non-null    float64\n",
      " 6   assets                  1000 non-null   object \n",
      " 7   market_value            1000 non-null   object \n",
      " 8   change_in_rank          1000 non-null   object \n",
      " 9   employees               1000 non-null   object \n",
      "dtypes: float64(3), object(7)\n",
      "memory usage: 78.2+ KB\n"
     ]
    }
   ],
   "source": [
    "fortune.info()"
   ]
  },
  {
   "cell_type": "code",
   "execution_count": 30,
   "id": "90874c9b",
   "metadata": {},
   "outputs": [],
   "source": [
    "# Profits\n",
    "\n",
    "# Assets\n",
    "\n",
    "# Market_Value\n",
    "\n",
    "# Employees\n",
    "\n"
   ]
  },
  {
   "cell_type": "code",
   "execution_count": 39,
   "id": "b1b91e7f",
   "metadata": {},
   "outputs": [],
   "source": [
    "cleaned_profits = []\n",
    "for profit in list(fortune[\"profits\"]):\n",
    "    cleaned_profits.append(profit.strip(\"$\").replace(\"(\", \"\").replace(\")\", \"\").replace(\",\", \"_\").strip(\" \").strip(\"$\"))"
   ]
  },
  {
   "cell_type": "code",
   "execution_count": 42,
   "id": "ffe5efbe",
   "metadata": {},
   "outputs": [],
   "source": [
    "fortune[\"profits\"] = cleaned_profits"
   ]
  },
  {
   "cell_type": "code",
   "execution_count": 49,
   "id": "618035d3",
   "metadata": {},
   "outputs": [],
   "source": [
    "fortune[\"profits\"].replace(\"-\", np.NaN, inplace=True)"
   ]
  },
  {
   "cell_type": "code",
   "execution_count": 52,
   "id": "871d991e",
   "metadata": {},
   "outputs": [],
   "source": [
    "new_converted_clean_profits = [float(profit) for profit in list(fortune[\"profits\"])]"
   ]
  },
  {
   "cell_type": "code",
   "execution_count": 54,
   "id": "8f246ffd",
   "metadata": {},
   "outputs": [],
   "source": [
    "fortune[\"profits\"] = new_converted_clean_profits"
   ]
  },
  {
   "cell_type": "code",
   "execution_count": 57,
   "id": "bae9e456",
   "metadata": {},
   "outputs": [
    {
     "name": "stdout",
     "output_type": "stream",
     "text": [
      "<class 'pandas.core.frame.DataFrame'>\n",
      "RangeIndex: 1000 entries, 0 to 999\n",
      "Data columns (total 10 columns):\n",
      " #   Column                  Non-Null Count  Dtype  \n",
      "---  ------                  --------------  -----  \n",
      " 0   rank                    1000 non-null   object \n",
      " 1   name                    1000 non-null   object \n",
      " 2   revenues                1000 non-null   float64\n",
      " 3   revenue_percent_change  992 non-null    float64\n",
      " 4   profits                 997 non-null    float64\n",
      " 5   profits_percent_change  727 non-null    float64\n",
      " 6   assets                  1000 non-null   object \n",
      " 7   market_value            1000 non-null   object \n",
      " 8   change_in_rank          1000 non-null   object \n",
      " 9   employees               1000 non-null   object \n",
      "dtypes: float64(4), object(6)\n",
      "memory usage: 78.2+ KB\n"
     ]
    }
   ],
   "source": [
    "fortune.info()"
   ]
  },
  {
   "cell_type": "code",
   "execution_count": 63,
   "id": "3b0e4073",
   "metadata": {},
   "outputs": [],
   "source": [
    "cleaned_fortune_data = []\n",
    "for data in list(fortune[\"assets\"]):\n",
    "    cleaned_fortune_data.append(float(data.strip(\"$\").replace(\",\", \"_\")))"
   ]
  },
  {
   "cell_type": "code",
   "execution_count": 64,
   "id": "245389ba",
   "metadata": {},
   "outputs": [],
   "source": [
    "fortune[\"assets\"] = cleaned_fortune_data"
   ]
  },
  {
   "cell_type": "code",
   "execution_count": 65,
   "id": "ed8541d0",
   "metadata": {},
   "outputs": [
    {
     "name": "stdout",
     "output_type": "stream",
     "text": [
      "<class 'pandas.core.frame.DataFrame'>\n",
      "RangeIndex: 1000 entries, 0 to 999\n",
      "Data columns (total 10 columns):\n",
      " #   Column                  Non-Null Count  Dtype  \n",
      "---  ------                  --------------  -----  \n",
      " 0   rank                    1000 non-null   object \n",
      " 1   name                    1000 non-null   object \n",
      " 2   revenues                1000 non-null   float64\n",
      " 3   revenue_percent_change  992 non-null    float64\n",
      " 4   profits                 997 non-null    float64\n",
      " 5   profits_percent_change  727 non-null    float64\n",
      " 6   assets                  1000 non-null   float64\n",
      " 7   market_value            1000 non-null   object \n",
      " 8   change_in_rank          1000 non-null   object \n",
      " 9   employees               1000 non-null   object \n",
      "dtypes: float64(5), object(5)\n",
      "memory usage: 78.2+ KB\n"
     ]
    }
   ],
   "source": [
    "fortune.info()"
   ]
  },
  {
   "cell_type": "code",
   "execution_count": 67,
   "id": "ba4140d2",
   "metadata": {},
   "outputs": [
    {
     "data": {
      "text/plain": [
       "False    1000\n",
       "Name: assets, dtype: int64"
      ]
     },
     "execution_count": 67,
     "metadata": {},
     "output_type": "execute_result"
    }
   ],
   "source": [
    "fortune[\"assets\"].isna().value_counts()"
   ]
  },
  {
   "cell_type": "code",
   "execution_count": 72,
   "id": "449eed66",
   "metadata": {},
   "outputs": [],
   "source": [
    "cleaned_market_value = []\n",
    "for data in list(fortune[\"market_value\"]):\n",
    "    if data == \"-\":\n",
    "        cleaned_market_value.append(np.NaN)\n",
    "    else:\n",
    "        cleaned_market_value.append(float(data.strip(\"$\").replace(\",\", \"_\")))"
   ]
  },
  {
   "cell_type": "code",
   "execution_count": 74,
   "id": "58d47794",
   "metadata": {},
   "outputs": [],
   "source": [
    "fortune[\"market_value\"] = cleaned_market_value"
   ]
  },
  {
   "cell_type": "code",
   "execution_count": 78,
   "id": "7563c479",
   "metadata": {},
   "outputs": [
    {
     "name": "stdout",
     "output_type": "stream",
     "text": [
      "<class 'pandas.core.frame.DataFrame'>\n",
      "RangeIndex: 1000 entries, 0 to 999\n",
      "Data columns (total 10 columns):\n",
      " #   Column                  Non-Null Count  Dtype  \n",
      "---  ------                  --------------  -----  \n",
      " 0   rank                    1000 non-null   object \n",
      " 1   name                    1000 non-null   object \n",
      " 2   revenues                1000 non-null   float64\n",
      " 3   revenue_percent_change  992 non-null    float64\n",
      " 4   profits                 997 non-null    float64\n",
      " 5   profits_percent_change  727 non-null    float64\n",
      " 6   assets                  1000 non-null   float64\n",
      " 7   market_value            955 non-null    float64\n",
      " 8   change_in_rank          1000 non-null   object \n",
      " 9   employees               1000 non-null   object \n",
      "dtypes: float64(6), object(4)\n",
      "memory usage: 78.2+ KB\n"
     ]
    }
   ],
   "source": [
    "fortune.info()"
   ]
  },
  {
   "cell_type": "code",
   "execution_count": 83,
   "id": "c9fecf49",
   "metadata": {},
   "outputs": [
    {
     "data": {
      "text/html": [
       "<div>\n",
       "<style scoped>\n",
       "    .dataframe tbody tr th:only-of-type {\n",
       "        vertical-align: middle;\n",
       "    }\n",
       "\n",
       "    .dataframe tbody tr th {\n",
       "        vertical-align: top;\n",
       "    }\n",
       "\n",
       "    .dataframe thead th {\n",
       "        text-align: right;\n",
       "    }\n",
       "</style>\n",
       "<table border=\"1\" class=\"dataframe\">\n",
       "  <thead>\n",
       "    <tr style=\"text-align: right;\">\n",
       "      <th></th>\n",
       "      <th>rank</th>\n",
       "      <th>name</th>\n",
       "      <th>revenues</th>\n",
       "      <th>revenue_percent_change</th>\n",
       "      <th>profits</th>\n",
       "      <th>profits_percent_change</th>\n",
       "      <th>assets</th>\n",
       "      <th>market_value</th>\n",
       "      <th>change_in_rank</th>\n",
       "      <th>employees</th>\n",
       "    </tr>\n",
       "  </thead>\n",
       "  <tbody>\n",
       "    <tr>\n",
       "      <th>865</th>\n",
       "      <td>866</td>\n",
       "      <td>Univision Communciations</td>\n",
       "      <td>2841.0</td>\n",
       "      <td>11.8</td>\n",
       "      <td>133.7</td>\n",
       "      <td>NaN</td>\n",
       "      <td>14055.4</td>\n",
       "      <td>NaN</td>\n",
       "      <td>-36</td>\n",
       "      <td>-</td>\n",
       "    </tr>\n",
       "  </tbody>\n",
       "</table>\n",
       "</div>"
      ],
      "text/plain": [
       "    rank                      name  revenues  revenue_percent_change  profits  \\\n",
       "865  866  Univision Communciations    2841.0                    11.8    133.7   \n",
       "\n",
       "     profits_percent_change   assets  market_value change_in_rank employees  \n",
       "865                     NaN  14055.4           NaN            -36         -  "
      ]
     },
     "execution_count": 83,
     "metadata": {},
     "output_type": "execute_result"
    }
   ],
   "source": [
    "fortune[fortune[\"employees\"] == \"-\"]"
   ]
  },
  {
   "cell_type": "code",
   "execution_count": 87,
   "id": "353d59b0",
   "metadata": {},
   "outputs": [],
   "source": [
    "cleaned_employees = []\n",
    "for employee in list(fortune[\"employees\"]):\n",
    "    if employee == \"-\":\n",
    "        cleaned_employees.append(np.NaN)\n",
    "    else:\n",
    "        cleaned_employees.append(float(employee.replace(\",\", \"_\")))"
   ]
  },
  {
   "cell_type": "code",
   "execution_count": 89,
   "id": "14eeec51",
   "metadata": {},
   "outputs": [],
   "source": [
    "fortune[\"employees\"] = cleaned_employees"
   ]
  },
  {
   "cell_type": "code",
   "execution_count": 90,
   "id": "8b8277c0",
   "metadata": {},
   "outputs": [
    {
     "name": "stdout",
     "output_type": "stream",
     "text": [
      "<class 'pandas.core.frame.DataFrame'>\n",
      "RangeIndex: 1000 entries, 0 to 999\n",
      "Data columns (total 10 columns):\n",
      " #   Column                  Non-Null Count  Dtype  \n",
      "---  ------                  --------------  -----  \n",
      " 0   rank                    1000 non-null   object \n",
      " 1   name                    1000 non-null   object \n",
      " 2   revenues                1000 non-null   float64\n",
      " 3   revenue_percent_change  992 non-null    float64\n",
      " 4   profits                 997 non-null    float64\n",
      " 5   profits_percent_change  727 non-null    float64\n",
      " 6   assets                  1000 non-null   float64\n",
      " 7   market_value            955 non-null    float64\n",
      " 8   change_in_rank          1000 non-null   object \n",
      " 9   employees               999 non-null    float64\n",
      "dtypes: float64(7), object(3)\n",
      "memory usage: 78.2+ KB\n"
     ]
    }
   ],
   "source": [
    "fortune.info()"
   ]
  },
  {
   "cell_type": "code",
   "execution_count": 91,
   "id": "4052fbf0",
   "metadata": {},
   "outputs": [],
   "source": [
    "# data cleaning done"
   ]
  },
  {
   "cell_type": "code",
   "execution_count": 94,
   "id": "db309221",
   "metadata": {},
   "outputs": [
    {
     "data": {
      "text/html": [
       "<div>\n",
       "<style scoped>\n",
       "    .dataframe tbody tr th:only-of-type {\n",
       "        vertical-align: middle;\n",
       "    }\n",
       "\n",
       "    .dataframe tbody tr th {\n",
       "        vertical-align: top;\n",
       "    }\n",
       "\n",
       "    .dataframe thead th {\n",
       "        text-align: right;\n",
       "    }\n",
       "</style>\n",
       "<table border=\"1\" class=\"dataframe\">\n",
       "  <thead>\n",
       "    <tr style=\"text-align: right;\">\n",
       "      <th></th>\n",
       "      <th>rank</th>\n",
       "      <th>name</th>\n",
       "      <th>revenues</th>\n",
       "      <th>revenue_percent_change</th>\n",
       "      <th>profits</th>\n",
       "      <th>profits_percent_change</th>\n",
       "      <th>assets</th>\n",
       "      <th>market_value</th>\n",
       "      <th>change_in_rank</th>\n",
       "      <th>employees</th>\n",
       "    </tr>\n",
       "  </thead>\n",
       "  <tbody>\n",
       "    <tr>\n",
       "      <th>2</th>\n",
       "      <td>3</td>\n",
       "      <td>Apple</td>\n",
       "      <td>365817.0</td>\n",
       "      <td>33.3</td>\n",
       "      <td>94680.0</td>\n",
       "      <td>64.9</td>\n",
       "      <td>351002.0</td>\n",
       "      <td>2849537.6</td>\n",
       "      <td>-</td>\n",
       "      <td>154000.0</td>\n",
       "    </tr>\n",
       "  </tbody>\n",
       "</table>\n",
       "</div>"
      ],
      "text/plain": [
       "  rank   name  revenues  revenue_percent_change  profits  \\\n",
       "2    3  Apple  365817.0                    33.3  94680.0   \n",
       "\n",
       "   profits_percent_change    assets  market_value change_in_rank  employees  \n",
       "2                    64.9  351002.0     2849537.6              -   154000.0  "
      ]
     },
     "execution_count": 94,
     "metadata": {},
     "output_type": "execute_result"
    }
   ],
   "source": [
    "#company that made the highest profit\n",
    "fortune[fortune[\"profits\"] == fortune[\"profits\"].max()]"
   ]
  },
  {
   "cell_type": "code",
   "execution_count": 97,
   "id": "bfba06b0",
   "metadata": {},
   "outputs": [
    {
     "data": {
      "text/html": [
       "<div>\n",
       "<style scoped>\n",
       "    .dataframe tbody tr th:only-of-type {\n",
       "        vertical-align: middle;\n",
       "    }\n",
       "\n",
       "    .dataframe tbody tr th {\n",
       "        vertical-align: top;\n",
       "    }\n",
       "\n",
       "    .dataframe thead th {\n",
       "        text-align: right;\n",
       "    }\n",
       "</style>\n",
       "<table border=\"1\" class=\"dataframe\">\n",
       "  <thead>\n",
       "    <tr style=\"text-align: right;\">\n",
       "      <th></th>\n",
       "      <th>rank</th>\n",
       "      <th>name</th>\n",
       "      <th>revenues</th>\n",
       "      <th>revenue_percent_change</th>\n",
       "      <th>profits</th>\n",
       "      <th>profits_percent_change</th>\n",
       "      <th>assets</th>\n",
       "      <th>market_value</th>\n",
       "      <th>change_in_rank</th>\n",
       "      <th>employees</th>\n",
       "    </tr>\n",
       "  </thead>\n",
       "  <tbody>\n",
       "    <tr>\n",
       "      <th>728</th>\n",
       "      <td>729</td>\n",
       "      <td>Pitney Bowes</td>\n",
       "      <td>3673.6</td>\n",
       "      <td>3.4</td>\n",
       "      <td>1.4</td>\n",
       "      <td>NaN</td>\n",
       "      <td>4958.9</td>\n",
       "      <td>900.1</td>\n",
       "      <td>-65</td>\n",
       "      <td>11500.0</td>\n",
       "    </tr>\n",
       "  </tbody>\n",
       "</table>\n",
       "</div>"
      ],
      "text/plain": [
       "    rank          name  revenues  revenue_percent_change  profits  \\\n",
       "728  729  Pitney Bowes    3673.6                     3.4      1.4   \n",
       "\n",
       "     profits_percent_change  assets  market_value change_in_rank  employees  \n",
       "728                     NaN  4958.9         900.1            -65    11500.0  "
      ]
     },
     "execution_count": 97,
     "metadata": {},
     "output_type": "execute_result"
    }
   ],
   "source": [
    "#company that made the lowest profit\n",
    "fortune[fortune[\"profits\"] == fortune[\"profits\"].min()]"
   ]
  },
  {
   "cell_type": "code",
   "execution_count": 105,
   "id": "6d81d5e2",
   "metadata": {},
   "outputs": [
    {
     "data": {
      "text/plain": [
       "<AxesSubplot:xlabel='name'>"
      ]
     },
     "execution_count": 105,
     "metadata": {},
     "output_type": "execute_result"
    },
    {
     "data": {
      "image/png": "[encoded data removed]",
      "text/plain": [
       "<Figure size 432x288 with 1 Axes>"
      ]
     },
     "metadata": {
      "needs_background": "light"
     },
     "output_type": "display_data"
    }
   ],
   "source": [
    "# top 10 companies with the highest profits\n",
    "fortune.sort_values(\"profits\", ascending=False)[[\"name\", \"profits\"]].set_index(\"name\").head(10).plot(kind=\"bar\")"
   ]
  },
  {
   "cell_type": "code",
   "execution_count": 114,
   "id": "c7ad1eac",
   "metadata": {},
   "outputs": [
    {
     "data": {
      "text/plain": [
       "<AxesSubplot:xlabel='name'>"
      ]
     },
     "execution_count": 114,
     "metadata": {},
     "output_type": "execute_result"
    },
    {
     "data": {
      "image/png": "[encoded data removed]",
      "text/plain": [
       "<Figure size 432x288 with 1 Axes>"
      ]
     },
     "metadata": {
      "needs_background": "light"
     },
     "output_type": "display_data"
    }
   ],
   "source": [
    "# top 10 companies with highest market value\n",
    "fortune.sort_values(\"market_value\", ascending=False)[[\"name\", \"market_value\"]].set_index(\"name\").head(10).plot(kind=\"bar\")"
   ]
  },
  {
   "cell_type": "code",
   "execution_count": 124,
   "id": "f974501c",
   "metadata": {},
   "outputs": [],
   "source": [
    "assests_df = fortune.sort_values(\"assets\", ascending=False)[[\"name\", \"assets\"]].set_index(\"name\").head(n=10)"
   ]
  },
  {
   "cell_type": "code",
   "execution_count": 129,
   "id": "47526a4b",
   "metadata": {},
   "outputs": [
    {
     "data": {
      "text/plain": [
       "<AxesSubplot:xlabel='name'>"
      ]
     },
     "execution_count": 129,
     "metadata": {},
     "output_type": "execute_result"
    },
    {
     "data": {
      "image/png": "[encoded data removed]",
      "text/plain": [
       "<Figure size 432x288 with 1 Axes>"
      ]
     },
     "metadata": {
      "needs_background": "light"
     },
     "output_type": "display_data"
    }
   ],
   "source": [
    "assests_df.plot(kind=\"bar\")"
   ]
  },
  {
   "cell_type": "code",
   "execution_count": 135,
   "id": "563c55ef",
   "metadata": {},
   "outputs": [
    {
     "data": {
      "text/plain": [
       "<AxesSubplot:xlabel='name'>"
      ]
     },
     "execution_count": 135,
     "metadata": {},
     "output_type": "execute_result"
    },
    {
     "data": {
      "image/png": "[encoded data removed]",
      "text/plain": [
       "<Figure size 432x288 with 1 Axes>"
      ]
     },
     "metadata": {
      "needs_background": "light"
     },
     "output_type": "display_data"
    }
   ],
   "source": [
    "fortune.sort_values(\"employees\", ascending=False).head(10)[[\"name\", \"employees\"]].set_index(\"name\").plot(kind=\"bar\")"
   ]
  },
  {
   "cell_type": "code",
   "execution_count": null,
   "id": "9685d09b",
   "metadata": {},
   "outputs": [],
   "source": []
  }
 ],
 "metadata": {
  "kernelspec": {
   "display_name": "Python 3 (ipykernel)",
   "language": "python",
   "name": "python3"
  },
  "language_info": {
   "codemirror_mode": {
    "name": "ipython",
    "version": 3
   },
   "file_extension": ".py",
   "mimetype": "text/x-python",
   "name": "python",
   "nbconvert_exporter": "python",
   "pygments_lexer": "ipython3",
   "version": "3.9.7"
  }
 },
 "nbformat": 4,
 "nbformat_minor": 5
}
